{
 "cells": [
  {
   "cell_type": "markdown",
   "id": "ea09e48f-29bc-41d8-ac15-2788d864ff5e",
   "metadata": {},
   "source": [
    "<div style=\"background-color: #e0f7e0; padding: 15px; border-radius: 5px;\">\n",
    "    <h1 style=\"color: Darkgreen;\">Home Work 1.11.2024</h1>\n",
    "</div>\n"
   ]
  },
  {
   "cell_type": "markdown",
   "id": "029788d3-d6a2-4e1a-ab45-01a8c12afbb7",
   "metadata": {},
   "source": [
    "<img src=\"data:image/jpeg;base64,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\" alt=\"Italian Trulli\">\n"
   ]
  },
  {
   "cell_type": "markdown",
   "id": "9bd3ac74-e219-4d2f-b995-0b686f240844",
   "metadata": {},
   "source": [
    "<div style=\"border: 2px solid Darkred; padding: 15px; background-color: #f9f9f9;\">\n",
    "    <h4 style=\"color: Darkred;\">\n",
    "        <strong>\n",
    "            1. \"Use the arange command to create and print an array with the following numbers:<br>\n",
    "        </strong>\n",
    "    </h4>\n",
    "    <h5 style=\"color: Tomato; margin-top: -10px;\">\n",
    "        a. From 1 to 10<br>\n",
    "        b. From 0.5 to 5 in steps of 0.25\"\n",
    "    </h5>\n",
    "</div>\n"
   ]
  },
  {
   "cell_type": "code",
   "execution_count": 2,
   "id": "d5d9acfa-66c2-45fc-b3dd-65191b45d9f3",
   "metadata": {},
   "outputs": [],
   "source": [
    "import numpy as np\n"
   ]
  },
  {
   "cell_type": "code",
   "execution_count": 33,
   "id": "bfdb524c-a2d5-44a0-bed1-bfb4d2f09c1c",
   "metadata": {},
   "outputs": [
    {
     "name": "stdout",
     "output_type": "stream",
     "text": [
      "Array from 1 to 10:\n",
      "[ 1  2  3  4  5  6  7  8  9 10]\n"
     ]
    }
   ],
   "source": [
    "# a. Create an array from 1 to 10\n",
    "array_a = np.arange(1, 11)  # 11 is exclusive\n",
    "print(\"Array from 1 to 10:\")\n",
    "print(array_a)\n"
   ]
  },
  {
   "cell_type": "code",
   "execution_count": 34,
   "id": "1490100c-bada-49ab-ba2d-5048576a41a5",
   "metadata": {},
   "outputs": [
    {
     "name": "stdout",
     "output_type": "stream",
     "text": [
      "\n",
      "Array from 0.5 to 5 in steps of 0.25:\n",
      "[0.5  0.75 1.   1.25 1.5  1.75 2.   2.25 2.5  2.75 3.   3.25 3.5  3.75\n",
      " 4.   4.25 4.5  4.75 5.   5.25 5.5  5.75]\n"
     ]
    }
   ],
   "source": [
    "# b. Create an array from 0.5 to 5 in steps of 0.25\n",
    "array_b = np.arange(0.5, 5 + 1, 0.25)  # 5 + 1 (or 5.01) is to include 5 in the array\n",
    "print(\"\\nArray from 0.5 to 5 in steps of 0.25:\")\n",
    "print(array_b)\n"
   ]
  },
  {
   "cell_type": "markdown",
   "id": "1d97d7b0-063a-4c22-be27-5b65ed0b71c8",
   "metadata": {},
   "source": [
    "<div style=\"border: 2px solid Darkred; padding: 15px; background-color: #f9f9f9;\">\n",
    "    <h4 style=\"color: Darkred;\">\n",
    "        <strong>\n",
    "            2. \"Use the zeros command to create and print an array of zeros with the following sizes:<br>\n",
    "        </strong>\n",
    "    </h4>\n",
    "    <h5 style=\"color: Tomato; margin-top: -10px;\">\n",
    "        a. An array of 10 elements in a single row <br>\n",
    "        b. An array of 12 elements in a shape of 4 x 3\"\n",
    "    </h5>\n",
    "</div>\n"
   ]
  },
  {
   "cell_type": "code",
   "execution_count": 8,
   "id": "a9f3d31a-eb1b-44ea-9859-62731c21fe18",
   "metadata": {},
   "outputs": [
    {
     "name": "stdout",
     "output_type": "stream",
     "text": [
      "Array of 10 zeros:\n",
      "[0. 0. 0. 0. 0. 0. 0. 0. 0. 0.]\n"
     ]
    }
   ],
   "source": [
    "# a. Create a 1D array of zeros with 10 elements\n",
    "array_a = np.zeros(10)\n",
    "print(\"Array of 10 zeros:\")\n",
    "print(array_a)\n"
   ]
  },
  {
   "cell_type": "code",
   "execution_count": 9,
   "id": "0db19f1b-8883-430e-b6cd-73f3dc428202",
   "metadata": {
    "scrolled": true
   },
   "outputs": [
    {
     "name": "stdout",
     "output_type": "stream",
     "text": [
      "\n",
      "Array of zeros with shape 4 x 3:\n",
      "[[0. 0. 0.]\n",
      " [0. 0. 0.]\n",
      " [0. 0. 0.]\n",
      " [0. 0. 0.]]\n"
     ]
    }
   ],
   "source": [
    "# b. Create a 2D array of zeros with shape 4 x 3\n",
    "array_b = np.zeros((4, 3))  # 4 rows and 3 columns\n",
    "print(\"\\nArray of zeros with shape 4 x 3:\")\n",
    "print(array_b)"
   ]
  },
  {
   "cell_type": "markdown",
   "id": "d808c2ae-d9b8-4228-a2c0-61f059584bd5",
   "metadata": {},
   "source": [
    "<div style=\"border: 2px solid Darkred; padding: 15px; background-color: #f9f9f9;\">\n",
    "    <h4 style=\"color: Darkred;\">\n",
    "        <strong>\n",
    "            3. \"Use the linspace command to create and print an array of numbers:\n",
    "        </strong>\n",
    "    </h4>\n",
    "    <h5 style=\"color: Tomato; margin-top: -10px;\">\n",
    "        a. With a size of 5 elements from 2 to 12 <br>\n",
    "        b. With a size of 4 elements from 3 to 9\"\n",
    "    </h5>\n",
    "</div>"
   ]
  },
  {
   "cell_type": "code",
   "execution_count": 15,
   "id": "4c5df2e8-50ef-4444-afdd-c78e82383c25",
   "metadata": {},
   "outputs": [
    {
     "name": "stdout",
     "output_type": "stream",
     "text": [
      "Array of 5 elements from 2 to 12:\n",
      "[ 2.   4.5  7.   9.5 12. ]\n"
     ]
    }
   ],
   "source": [
    "# a. Create an array of 5 elements from 2 to 12\n",
    "array_a = np.linspace(2, 12, 5)\n",
    "print(\"Array of 5 elements from 2 to 12:\")\n",
    "print(array_a)\n"
   ]
  },
  {
   "cell_type": "code",
   "execution_count": 11,
   "id": "5076785a-71df-40bc-8889-06f95c45941d",
   "metadata": {},
   "outputs": [
    {
     "name": "stdout",
     "output_type": "stream",
     "text": [
      "\n",
      "Array of 4 elements from 3 to 9:\n",
      "[3. 5. 7. 9.]\n"
     ]
    }
   ],
   "source": [
    "# b. Create an array of 4 elements from 3 to 9\n",
    "array_b = np.linspace(3, 9, 4)\n",
    "print(\"\\nArray of 4 elements from 3 to 9:\")\n",
    "print(array_b)"
   ]
  },
  {
   "cell_type": "markdown",
   "id": "88828898-a015-493a-ab4e-fcd0b5a9d48c",
   "metadata": {},
   "source": [
    "<div style=\"border: 2px solid Darkred; padding: 15px; background-color: #f9f9f9;\">\n",
    "    <h4 style=\"color: Darkred;\">\n",
    "        <strong>\n",
    "            4. \"Use the random command from NumPy to create and print an array of random numbers:<br>\n",
    "        </strong>\n",
    "    </h4>\n",
    "    <h5 style=\"color: Tomato; margin-top: -10px;\">\n",
    "        a. With a size of 2 x 4 where each random number is between 0 and 0.999<br> \n",
    "        b. With a size of 3 x 3 where each random number is an integer between 10 and 20\"\n",
    "    </h5>\n",
    "</div>\n"
   ]
  },
  {
   "cell_type": "code",
   "execution_count": 12,
   "id": "73ab915e-5739-449f-92b6-c5e145bcd4e9",
   "metadata": {},
   "outputs": [
    {
     "name": "stdout",
     "output_type": "stream",
     "text": [
      "Array of random numbers (2 x 4) between 0 and 0.999:\n",
      "[[0.08874987 0.06587537 0.72287911 0.64971507]\n",
      " [0.42493732 0.31958053 0.74900011 0.7079043 ]]\n"
     ]
    }
   ],
   "source": [
    "# a. Create a 2 x 4 array of random numbers between 0 and 0.999\n",
    "array_a = np.random.rand(2, 4)  # rand generates numbers in the range [0.0, 1.0)\n",
    "print(\"Array of random numbers (2 x 4) between 0 and 0.999:\")\n",
    "print(array_a)\n"
   ]
  },
  {
   "cell_type": "code",
   "execution_count": 13,
   "id": "a05d3818-c213-4411-88bb-c75d46e41bf1",
   "metadata": {},
   "outputs": [
    {
     "name": "stdout",
     "output_type": "stream",
     "text": [
      "\n",
      "Array of random integers (3 x 3) between 10 and 20:\n",
      "[[19 10 14]\n",
      " [16 16 15]\n",
      " [12 19 17]]\n"
     ]
    }
   ],
   "source": [
    "# b. Create a 3 x 3 array of random integers between 10 and 20\n",
    "array_b = np.random.randint(10, 21, size=(3, 3))  # 21 is exclusive\n",
    "print(\"\\nArray of random integers (3 x 3) between 10 and 20:\")\n",
    "print(array_b)"
   ]
  },
  {
   "cell_type": "markdown",
   "id": "eb6593da-405d-468c-8398-11764d70e303",
   "metadata": {},
   "source": [
    "<h4 style=\"color: Darkred;\">\n",
    "    <strong>\n",
    "        * \"Using reshape, change the size of the array you created in section a to 8 x 1.<br> \n",
    "        * What should you pay attention to when using the reshape operation?\"\n",
    "    </strong>\n",
    "</h4>"
   ]
  },
  {
   "cell_type": "code",
   "execution_count": 14,
   "id": "55325376-6a1f-4479-ac5a-909326942ad8",
   "metadata": {},
   "outputs": [
    {
     "name": "stdout",
     "output_type": "stream",
     "text": [
      "Reshaped array (8 x 1):\n",
      "[[0.25130362]\n",
      " [0.31643129]\n",
      " [0.97930772]\n",
      " [0.16988884]\n",
      " [0.86697273]\n",
      " [0.47128357]\n",
      " [0.73372508]\n",
      " [0.55498861]]\n"
     ]
    }
   ],
   "source": [
    "# Create a 2 x 4 array of random numbers between 0 and 0.999 (from section a)\n",
    "array_a = np.random.rand(2, 4)\n",
    "\n",
    "# Reshape the array to 8 x 1\n",
    "reshaped_array = array_a.reshape(8, 1)\n",
    "print(\"Reshaped array (8 x 1):\")\n",
    "print(reshaped_array)\n"
   ]
  },
  {
   "cell_type": "markdown",
   "id": "2bfb91e4-4750-40aa-92d0-9442b5a6f976",
   "metadata": {},
   "source": [
    "**Explanation:**<br> \n",
    "The original array array_a has 8 elements (2 rows and 4 columns). The reshape method is used to change its shape to 8 rows and 1 column. <br> \n",
    "**Important Notes When Using reshape:** <br> \n",
    "**Element Count:** The total number of elements in the original array must match the total number of elements in the reshaped array. For example, an array with 8 elements can be reshaped to any configuration that also contains 8 elements (e.g., 8x1, 4x2, 2x4).<br>\n",
    "**Order of Elements:** The order of elements is maintained. Reshaping does not change the data; it only changes how the data is organized.<br>\n",
    "**Using -1:** You can use -1 in one dimension to let NumPy automatically calculate the appropriate size for that dimension based on the total number of elements. For example, array_a.reshape(-1, 1) would also work to reshape to 8x1."
   ]
  },
  {
   "cell_type": "markdown",
   "id": "e0fda978-b4e4-42d9-8c3f-2f9a0467a387",
   "metadata": {},
   "source": [
    "<div style=\"background-color: #f0f0f0; padding: 15px; border-radius: 5px;\">\n",
    "    <h4 style=\"color: Darkred;\">\n",
    "        <strong>\n",
    "            * \"What will happen if we generate random numbers using a fixed seed? <br>\n",
    "            * What is the advantage of using a seed?\"\n",
    "        </strong>\n",
    "    </h4>\n",
    "</div>\n"
   ]
  },
  {
   "cell_type": "code",
   "execution_count": 18,
   "id": "7a90f31b-9b79-46e7-b4de-e70ee977876f",
   "metadata": {},
   "outputs": [],
   "source": [
    "# Set a fixed seed\n",
    "np.random.seed(42)"
   ]
  },
  {
   "cell_type": "code",
   "execution_count": 19,
   "id": "1e096cef-bb06-4768-aaf8-1f8bdd112d3f",
   "metadata": {},
   "outputs": [
    {
     "name": "stdout",
     "output_type": "stream",
     "text": [
      "Random numbers with a fixed seed:\n",
      "[0.37454012 0.95071431 0.73199394 0.59865848 0.15601864]\n"
     ]
    }
   ],
   "source": [
    "# Generate random numbers\n",
    "random_numbers = np.random.rand(5)\n",
    "print(\"Random numbers with a fixed seed:\")\n",
    "print(random_numbers)"
   ]
  },
  {
   "cell_type": "code",
   "execution_count": 20,
   "id": "bd2c75a5-d8a4-4135-8c50-4b43ddaf3786",
   "metadata": {},
   "outputs": [
    {
     "name": "stdout",
     "output_type": "stream",
     "text": [
      "\n",
      "Repeat random numbers with the same fixed seed:\n",
      "[0.37454012 0.95071431 0.73199394 0.59865848 0.15601864]\n"
     ]
    }
   ],
   "source": [
    "# Reset the seed and generate the same numbers again\n",
    "np.random.seed(42)\n",
    "repeat_random_numbers = np.random.rand(5)\n",
    "print(\"\\nRepeat random numbers with the same fixed seed:\")\n",
    "print(repeat_random_numbers)"
   ]
  },
  {
   "cell_type": "markdown",
   "id": "d38e6898-dc37-40f5-b8d1-1d593abaa2c4",
   "metadata": {},
   "source": [
    "<div style=\"border: 2px solid Darkred; padding: 15px; background-color: #f9f9f9;\">\n",
    "    <h4 style=\"color: Darkred;\">\n",
    "        <strong>\n",
    "            6. \"Write a Python code in a Jupyter notebook that performs the following actions: <br>\n",
    "        </strong>\n",
    "    </h4>\n",
    "    <h5 style=\"color: Tomato; margin-top: -10px;\">\n",
    "        a. Read 5 numbers from the user in a loop and add them to a list.<br>\n",
    "        b. Convert the list to a NumPy array.<br>\n",
    "        c. Print the largest element in the array.<br>\n",
    "        d. Print the smallest element in the array.<br>\n",
    "        e. Print the shape of the array (hint: use shape).<br>\n",
    "        f. Print the index of the largest element in the array.<br>\n",
    "        g. Print the index of the smallest element in the array.\"\n",
    "    </h5>\n",
    "</div>\n"
   ]
  },
  {
   "cell_type": "code",
   "execution_count": 22,
   "id": "0f19ccdf-6c66-4e79-b548-458d036a875b",
   "metadata": {},
   "outputs": [
    {
     "name": "stdin",
     "output_type": "stream",
     "text": [
      "Enter number 1:  5\n",
      "Enter number 2:  66\n",
      "Enter number 3:  44\n",
      "Enter number 4:  77\n",
      "Enter number 5:  100\n"
     ]
    }
   ],
   "source": [
    "# a. Read 5 numbers from the user and add them to a list\n",
    "user_numbers = []\n",
    "for i in range(5):\n",
    "    num = float(input(f\"Enter number {i+1}: \"))  # Prompt for user input\n",
    "    user_numbers.append(num)"
   ]
  },
  {
   "cell_type": "code",
   "execution_count": 23,
   "id": "607e3c10-0d45-4c73-9faa-f24bf192e50d",
   "metadata": {},
   "outputs": [],
   "source": [
    "# b. Convert the list to a NumPy array\n",
    "np_array = np.array(user_numbers)"
   ]
  },
  {
   "cell_type": "code",
   "execution_count": 27,
   "id": "b994b959-a0cb-40ef-a3aa-cc89eced7136",
   "metadata": {},
   "outputs": [
    {
     "name": "stdout",
     "output_type": "stream",
     "text": [
      "The largest element in the array: 100.0\n"
     ]
    }
   ],
   "source": [
    "# c. Print the largest element in the array\n",
    "largest_element = np.max(np_array)\n",
    "print(\"The largest element in the array:\", largest_element)"
   ]
  },
  {
   "cell_type": "code",
   "execution_count": 28,
   "id": "66e3b74c-3445-44e0-978b-228047a7b21a",
   "metadata": {},
   "outputs": [
    {
     "name": "stdout",
     "output_type": "stream",
     "text": [
      "The smallest element in the array: 5.0\n"
     ]
    }
   ],
   "source": [
    "# d. Print the smallest element in the array\n",
    "smallest_element = np.min(np_array)\n",
    "print(\"The smallest element in the array:\", smallest_element)"
   ]
  },
  {
   "cell_type": "code",
   "execution_count": 29,
   "id": "2ac2d956-8ebb-4da4-80c2-cf3b33730efa",
   "metadata": {},
   "outputs": [
    {
     "name": "stdout",
     "output_type": "stream",
     "text": [
      "Shape of the array: (5,)\n"
     ]
    }
   ],
   "source": [
    "# e. Print the shape of the array\n",
    "print(\"Shape of the array:\", np_array.shape)"
   ]
  },
  {
   "cell_type": "code",
   "execution_count": 30,
   "id": "305118a7-44bb-4e5d-90ca-97631029eb5c",
   "metadata": {},
   "outputs": [
    {
     "name": "stdout",
     "output_type": "stream",
     "text": [
      "Index of the largest element in the array: 4\n"
     ]
    }
   ],
   "source": [
    "# f. Print the index of the largest element in the array\n",
    "index_largest = np.argmax(np_array)\n",
    "print(\"Index of the largest element in the array:\", index_largest)"
   ]
  },
  {
   "cell_type": "code",
   "execution_count": 31,
   "id": "accb13b5-6928-48e6-9c8b-07d719ef337c",
   "metadata": {},
   "outputs": [
    {
     "name": "stdout",
     "output_type": "stream",
     "text": [
      "Index of the smallest element in the array: 0\n"
     ]
    }
   ],
   "source": [
    "# g. Print the index of the smallest element in the array\n",
    "index_smallest = np.argmin(np_array)\n",
    "print(\"Index of the smallest element in the array:\", index_smallest)"
   ]
  }
 ],
 "metadata": {
  "kernelspec": {
   "display_name": "Python 3 (ipykernel)",
   "language": "python",
   "name": "python3"
  },
  "language_info": {
   "codemirror_mode": {
    "name": "ipython",
    "version": 3
   },
   "file_extension": ".py",
   "mimetype": "text/x-python",
   "name": "python",
   "nbconvert_exporter": "python",
   "pygments_lexer": "ipython3",
   "version": "3.12.7"
  }
 },
 "nbformat": 4,
 "nbformat_minor": 5
}
